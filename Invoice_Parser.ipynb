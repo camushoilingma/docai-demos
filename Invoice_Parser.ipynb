{
 "cells": [
  {
   "cell_type": "markdown",
   "metadata": {},
   "source": [
    "# DocAI Invoice Parser Demo"
   ]
  },
  {
   "cell_type": "markdown",
   "metadata": {},
   "source": [
    "**This notebook assumes you have docai api enabled for your project and security setup.**"
   ]
  },
  {
   "cell_type": "code",
   "execution_count": 278,
   "metadata": {},
   "outputs": [],
   "source": [
    "import json\n",
    "import base64\n",
    "from google.cloud import documentai_v1beta3 as documentai"
   ]
  },
  {
   "cell_type": "markdown",
   "metadata": {},
   "source": [
    "### Replace with your own project and location."
   ]
  },
  {
   "cell_type": "code",
   "execution_count": 274,
   "metadata": {},
   "outputs": [],
   "source": [
    "# Replace with your own values.\n",
    "PROJECT_ID=\"google.com:ml-baguette-demos\"\n",
    "LOCATION=\"us\""
   ]
  },
  {
   "cell_type": "markdown",
   "metadata": {},
   "source": [
    "### Helper Functions"
   ]
  },
  {
   "cell_type": "code",
   "execution_count": 267,
   "metadata": {},
   "outputs": [],
   "source": [
    "def get_parsed_entities(parsed_document_response):\n",
    "    \"\"\"\n",
    "    Returns dict of parsed entities fron a document response.\n",
    "    \"\"\"\n",
    "    parsed_entities = {}\n",
    "    for entity in parsed_document_response.entities:\n",
    "        parsed_entities[entity.type_] = entity.mention_text\n",
    "\n",
    "    return parsed_entities"
   ]
  },
  {
   "cell_type": "code",
   "execution_count": 268,
   "metadata": {},
   "outputs": [],
   "source": [
    "def get_parsed_entities_json(parsed_document_dict):\n",
    "    \"\"\"\n",
    "    Returns dict of parsed entities fron a document response.\n",
    "    \"\"\"\n",
    "    parsed_entities = {}\n",
    "    for entity in parsed_document_dict['entities']:\n",
    "        parsed_entities[entity['type']] = entity['mentionText']\n",
    "\n",
    "    return parsed_entities"
   ]
  },
  {
   "cell_type": "markdown",
   "metadata": {},
   "source": [
    "### Process Document and print LRO if HITL triggered"
   ]
  },
  {
   "cell_type": "code",
   "execution_count": 269,
   "metadata": {},
   "outputs": [],
   "source": [
    "def process_document_sample(\n",
    "    project_id: str, location: str, processor_id: str, file_path: str\n",
    "):\n",
    "    \"\"\"\n",
    "    Process Document and print LRO if HITL triggered.\n",
    "    \"\"\"\n",
    "    from google.cloud import documentai_v1beta3 as documentai\n",
    "\n",
    "    # Instantiates a client\n",
    "    client = documentai.DocumentProcessorServiceClient()\n",
    "\n",
    "    # The full resource name of the processor, e.g.:\n",
    "    # projects/project-id/locations/location/processor/processor-id\n",
    "    # You must create new processors in the Cloud Console first\n",
    "    name = f\"projects/{project_id}/locations/{location}/processors/{processor_id}\"\n",
    "\n",
    "    with open(file_path, \"rb\") as image:\n",
    "        image_content = image.read()\n",
    "\n",
    "    # Read the file into memory\n",
    "    document = {\"content\": image_content, \"mime_type\": \"application/pdf\"}\n",
    "\n",
    "    # Configure the process request\n",
    "    request = {\"name\": name, \"document\": document}\n",
    "\n",
    "    # Recognizes text entities in the PDF document\n",
    "    result = client.process_document(request=request)\n",
    "    \n",
    "    print(\"Document processing complete.\\n\")\n",
    "    document = result.document\n",
    "    entities = get_parsed_entities(document)\n",
    "    \n",
    "    print(\"Parsed Entities:\\n\")\n",
    "    \n",
    "    for t in entities:\n",
    "        print(\"{} : {}\\n \".format(t, entities[t]))\n",
    "    \n",
    "    if result.human_review_operation:\n",
    "        print (\"Triggered HITL operation: {}\".format(result.human_review_operation))\n"
   ]
  },
  {
   "cell_type": "code",
   "execution_count": 280,
   "metadata": {},
   "outputs": [],
   "source": [
    "#Replace with your own values.\n",
    "PROCESSOR_ID = 'e46132dfddbdc8f2'\n",
    "DOCUMENT_PATH = 'docai-demos/test-files/acme-sample-invoice.pdf'"
   ]
  },
  {
   "cell_type": "code",
   "execution_count": 277,
   "metadata": {},
   "outputs": [
    {
     "name": "stdout",
     "output_type": "stream",
     "text": [
      "Document processing complete.\n",
      "\n",
      "Parsed Entities:\n",
      "\n",
      "net_amount : $331.00\n",
      " \n",
      "due_date : 12/13/2019\n",
      " \n",
      "purchase_order : CC-2342\n",
      " \n",
      "payment_terms : Net 30\n",
      " \n",
      "supplier_name : Acme Pest Control LLC\n",
      " \n",
      "receiver_name : Carrie Webb\n",
      " \n",
      "total_tax_amount : 29.79\n",
      " \n",
      "supplier_address : 145 Corporate Ln\n",
      "Northbrook, IL 60062\n",
      "555-314-1888\n",
      "United States\n",
      " \n",
      "total_amount : 372.24\n",
      " \n",
      "invoice_id : 126935\n",
      " \n",
      "receiver_address : 909 Kuvalis Fort Apt. 525\n",
      "Bannockburn, IL 60015\n",
      "United States\n",
      " \n",
      "invoice_date : 11/27/2019\n",
      " \n",
      "currency : $\n",
      " \n",
      "supplier_phone : 555-314-1888\n",
      " \n",
      "freight_amount : $11.45\n",
      " \n",
      "vat/amount : $331.00\n",
      " \n",
      "line_item : 4 Labor $42.00 $168.00\n",
      " \n",
      "Triggered HITL operation: projects/660199673046/locations/us/operations/13689527806918032121\n"
     ]
    }
   ],
   "source": [
    "process_document_sample(PROJECT_ID, LOCATION, PROCESSOR_ID, DOCUMENT_PATH)"
   ]
  },
  {
   "cell_type": "markdown",
   "metadata": {},
   "source": [
    "  "
   ]
  },
  {
   "cell_type": "markdown",
   "metadata": {},
   "source": [
    "**Update the lro_id with the HITL operation below:**"
   ]
  },
  {
   "cell_type": "code",
   "execution_count": 281,
   "metadata": {},
   "outputs": [],
   "source": [
    "lro_id = \"projects/660199673046/locations/us/operations/13839970306437524071\""
   ]
  },
  {
   "cell_type": "code",
   "execution_count": 282,
   "metadata": {},
   "outputs": [
    {
     "name": "stdout",
     "output_type": "stream",
     "text": [
      "HITL location: gs://ml-baguette-dai-sample-docs-us/receipt-output/13839970306437524071/data-00001-of-00001.json \n"
     ]
    }
   ],
   "source": [
    "from google.cloud import documentai_v1beta3 as documentai\n",
    "client = documentai.DocumentProcessorServiceClient()\n",
    "operation = client._transport.operations_client.get_operation(lro_id)\n",
    "if operation.done:\n",
    "    print(\"HITL location: {} \".format(str(operation.response.value)[5:-1]))\n",
    "else:\n",
    "    print('Waiting on human review.')"
   ]
  },
  {
   "cell_type": "markdown",
   "metadata": {},
   "source": [
    "  "
   ]
  },
  {
   "cell_type": "markdown",
   "metadata": {},
   "source": [
    "**Update GCS url with the HITL location in the command below:**"
   ]
  },
  {
   "cell_type": "code",
   "execution_count": 283,
   "metadata": {},
   "outputs": [
    {
     "name": "stdout",
     "output_type": "stream",
     "text": [
      "Copying gs://ml-baguette-dai-sample-docs-us/receipt-output/13839970306437524071/data-00001-of-00001.json...\n",
      "/ [1 files][437.9 KiB/437.9 KiB]                                                \n",
      "Operation completed over 1 objects/437.9 KiB.                                    \n"
     ]
    }
   ],
   "source": [
    "!gsutil cp \"gs://ml-baguette-dai-sample-docs-us/receipt-output/13839970306437524071/data-00001-of-00001.json\" response.json"
   ]
  },
  {
   "cell_type": "code",
   "execution_count": 284,
   "metadata": {},
   "outputs": [
    {
     "name": "stdout",
     "output_type": "stream",
     "text": [
      "net_amount : $331.00\n",
      " \n",
      "line_item : 4 Labor $42.00 $168.00\n",
      " \n",
      "supplier_name : Acme Pest Control LLC\n",
      " \n",
      "supplier_address : 145 Corporate Ln\n",
      "Northbrook, IL 60062\n",
      "555-314-1888\n",
      "United States\n",
      " \n",
      "invoice_id : 126935\n",
      " \n",
      "supplier_phone : 555-314-1888\n",
      " \n",
      "invoice_date : 11/27/2019\n",
      " \n",
      "receiver_name : Carrie Webb\n",
      " \n",
      "receiver_address : 909 Kuvalis Fort Apt. 525\n",
      "Bannockburn, IL 60015\n",
      "United States\n",
      " \n",
      "due_date : 12/13/2019\n",
      " \n",
      "payment_terms : Net 30\n",
      " \n",
      "purchase_order : CC-2342\n",
      " \n",
      "vat/amount : $331.00\n",
      " \n",
      "total_tax_amount : 29.79\n",
      " \n",
      "freight_amount : $11.45\n",
      " \n",
      "total_amount : 372.24\n",
      " \n",
      "currency : $\n",
      " \n"
     ]
    }
   ],
   "source": [
    "with open(\"response.json\", \"r\") as file:\n",
    "    import json\n",
    "    \n",
    "    data = json.load(file)\n",
    "    entities = get_parsed_entities_json(data)\n",
    "    \n",
    "    for t in entities:\n",
    "        print(\"{} : {}\\n \".format(t, entities[t]))"
   ]
  }
 ],
 "metadata": {
  "environment": {
   "name": "tf2-2-3-gpu.2-3.m59",
   "type": "gcloud",
   "uri": "gcr.io/deeplearning-platform-release/tf2-2-3-gpu.2-3:m59"
  },
  "kernelspec": {
   "display_name": "Python 3",
   "language": "python",
   "name": "python3"
  },
  "language_info": {
   "codemirror_mode": {
    "name": "ipython",
    "version": 3
   },
   "file_extension": ".py",
   "mimetype": "text/x-python",
   "name": "python",
   "nbconvert_exporter": "python",
   "pygments_lexer": "ipython3",
   "version": "3.7.8"
  }
 },
 "nbformat": 4,
 "nbformat_minor": 4
}
